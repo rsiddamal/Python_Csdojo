{
 "cells": [
  {
   "cell_type": "code",
   "execution_count": 1,
   "metadata": {},
   "outputs": [
    {
     "name": "stdout",
     "output_type": "stream",
     "text": [
      "a is less than b\n"
     ]
    }
   ],
   "source": [
    "a = 1\n",
    "b = 2\n",
    "if a < b:\n",
    "    print(\"a is less than b\")"
   ]
  },
  {
   "cell_type": "code",
   "execution_count": 2,
   "metadata": {},
   "outputs": [
    {
     "name": "stdout",
     "output_type": "stream",
     "text": [
      "c is not less than d\n",
      "i dont think c is less than d\n",
      "outside of if block\n"
     ]
    }
   ],
   "source": [
    "c = 5\n",
    "d = 4\n",
    "if c < d:\n",
    "    print(\"c is less than d\")\n",
    "else:\n",
    "    print(\"c is not less than d\")\n",
    "    print(\"i dont think c is less than d\")\n",
    "print(\"outside of if block\")"
   ]
  },
  {
   "cell_type": "code",
   "execution_count": 3,
   "metadata": {},
   "outputs": [
    {
     "name": "stdout",
     "output_type": "stream",
     "text": [
      "e is equal to f\n"
     ]
    }
   ],
   "source": [
    "e = 8\n",
    "f = 8\n",
    "if e < f:\n",
    "    print(\"e is less than f\")\n",
    "elif e == f:\n",
    "    print(\"e is equal to f\")\n",
    "else:\n",
    "    print(\"e is greater than f\")"
   ]
  },
  {
   "cell_type": "code",
   "execution_count": 4,
   "metadata": {},
   "outputs": [
    {
     "name": "stdout",
     "output_type": "stream",
     "text": [
      "can't say anything\n"
     ]
    }
   ],
   "source": [
    "a=8\n",
    "b=4\n",
    "c=8\n",
    "if a<b:\n",
    "    print(\"a is less than b\")\n",
    "elif b>c:\n",
    "    print(\"b is greatetr than c\")\n",
    "elif b==c & a==b:\n",
    "    print(\"all are same\")\n",
    "else:\n",
    "    print(\"can't say anything\")"
   ]
  },
  {
   "cell_type": "code",
   "execution_count": 9,
   "metadata": {},
   "outputs": [
    {
     "name": "stdout",
     "output_type": "stream",
     "text": [
      "b is the biggest number\n"
     ]
    }
   ],
   "source": [
    "a = 3\n",
    "b = 5\n",
    "c = 1\n",
    "if c>a:\n",
    "    print(\"c is greater than a\")\n",
    "elif a<b or a>c:\n",
    "    print(\"b is the biggest number\")"
   ]
  },
  {
   "cell_type": "code",
   "execution_count": 12,
   "metadata": {},
   "outputs": [
    {
     "name": "stdout",
     "output_type": "stream",
     "text": [
      "your bmi is:-\n",
      "22.321428571428577\n",
      "coder rajat\n",
      "you are having correct weight\n"
     ]
    }
   ],
   "source": [
    "#bmi calculator#\n",
    "name = \"coder rajat\"\n",
    "height_m = 1.68\n",
    "weight_kg = 63\n",
    "\n",
    "bmi= weight_kg/(height_m)**2\n",
    "print(\"your bmi is:-\")\n",
    "print(bmi)\n",
    "if bmi<16:\n",
    "    print(name)\n",
    "    print(\"you are underweight....start eating \")\n",
    "elif 16<bmi<17:\n",
    "    print(name)\n",
    "    print(\"Moderate Thinness\")\n",
    "elif 17<bmi<18.5:\n",
    "    print(name)\n",
    "    print(\"Mild Thinness\")\n",
    "elif 18.5<bmi<25:\n",
    "    print(name)\n",
    "    print(\"you are having correct weight\")\n",
    "elif 25<bmi<30:\n",
    "    print(name)\n",
    "    print(\"you are overweight....get up and start running\")\n",
    "elif 30<bmi<35:\n",
    "    print(name)\n",
    "    print(\"Obese Class I\")\n",
    "elif 35<bmi<40:\n",
    "    print(name)\n",
    "    print(\"Obese Class II\")\n",
    "elif bmi>40:\n",
    "    print(name)\n",
    "    print(\"Obese Class III\")"
   ]
  }
 ],
 "metadata": {
  "kernelspec": {
   "display_name": "Python 3",
   "language": "python",
   "name": "python3"
  },
  "language_info": {
   "codemirror_mode": {
    "name": "ipython",
    "version": 3
   },
   "file_extension": ".py",
   "mimetype": "text/x-python",
   "name": "python",
   "nbconvert_exporter": "python",
   "pygments_lexer": "ipython3",
   "version": "3.6.5"
  }
 },
 "nbformat": 4,
 "nbformat_minor": 2
}
