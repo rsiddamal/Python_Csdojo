{
 "cells": [
  {
   "cell_type": "code",
   "execution_count": 1,
   "metadata": {},
   "outputs": [
    {
     "name": "stdout",
     "output_type": "stream",
     "text": [
      "This is outside function\n",
      "will always run as it is outside the function\n"
     ]
    }
   ],
   "source": [
    "# a collection of instructions\n",
    "# a collection of code\n",
    "def function1():\n",
    "    print(\"This is inside the function\")\n",
    "    print(\"will only run when the function is called\")\n",
    "print(\"This is outside function\")\n",
    "print(\"will always run as it is outside the function\")"
   ]
  },
  {
   "cell_type": "code",
   "execution_count": 2,
   "metadata": {},
   "outputs": [
    {
     "name": "stdout",
     "output_type": "stream",
     "text": [
      "This is inside the function\n",
      "will only run when the function is called\n"
     ]
    }
   ],
   "source": [
    "function1()"
   ]
  },
  {
   "cell_type": "code",
   "execution_count": 3,
   "metadata": {},
   "outputs": [],
   "source": [
    "# mapping a function(input or an arrgument)\n",
    "def function2(x):\n",
    "    return 2*x"
   ]
  },
  {
   "cell_type": "code",
   "execution_count": 4,
   "metadata": {},
   "outputs": [],
   "source": [
    "a = function2(3)"
   ]
  },
  {
   "cell_type": "code",
   "execution_count": 5,
   "metadata": {},
   "outputs": [
    {
     "name": "stdout",
     "output_type": "stream",
     "text": [
      "6\n"
     ]
    }
   ],
   "source": [
    "print(a)"
   ]
  },
  {
   "cell_type": "code",
   "execution_count": 6,
   "metadata": {},
   "outputs": [
    {
     "name": "stdout",
     "output_type": "stream",
     "text": [
      "10\n"
     ]
    }
   ],
   "source": [
    "b = function2(5)\n",
    "print(b)"
   ]
  },
  {
   "cell_type": "code",
   "execution_count": 7,
   "metadata": {},
   "outputs": [
    {
     "name": "stdout",
     "output_type": "stream",
     "text": [
      "20\n"
     ]
    }
   ],
   "source": [
    "c= function2(10)\n",
    "print(c)"
   ]
  },
  {
   "cell_type": "code",
   "execution_count": 8,
   "metadata": {},
   "outputs": [
    {
     "ename": "TypeError",
     "evalue": "function2() missing 1 required positional argument: 'x'",
     "output_type": "error",
     "traceback": [
      "\u001b[1;31m---------------------------------------------------------------------------\u001b[0m",
      "\u001b[1;31mTypeError\u001b[0m                                 Traceback (most recent call last)",
      "\u001b[1;32m<ipython-input-8-9f9e7aec7a86>\u001b[0m in \u001b[0;36m<module>\u001b[1;34m()\u001b[0m\n\u001b[1;32m----> 1\u001b[1;33m \u001b[0md\u001b[0m \u001b[1;33m=\u001b[0m \u001b[0mfunction2\u001b[0m\u001b[1;33m(\u001b[0m\u001b[1;33m)\u001b[0m\u001b[1;33m\u001b[0m\u001b[0m\n\u001b[0m",
      "\u001b[1;31mTypeError\u001b[0m: function2() missing 1 required positional argument: 'x'"
     ]
    }
   ],
   "source": [
    "d = function2()"
   ]
  },
  {
   "cell_type": "code",
   "execution_count": 9,
   "metadata": {},
   "outputs": [],
   "source": [
    "# we passed 1 argument through the function \n",
    "#now we will try to pass the multiple arguments\n",
    "def function3(x,y):\n",
    "    return x + y"
   ]
  },
  {
   "cell_type": "code",
   "execution_count": 10,
   "metadata": {},
   "outputs": [
    {
     "name": "stdout",
     "output_type": "stream",
     "text": [
      "10\n"
     ]
    }
   ],
   "source": [
    "e = function3(3,7)\n",
    "print(e)"
   ]
  },
  {
   "cell_type": "code",
   "execution_count": 11,
   "metadata": {},
   "outputs": [],
   "source": [
    "def function4(x):\n",
    "    print(x)\n",
    "    print(\"still in this function\")\n",
    "    return 3*x"
   ]
  },
  {
   "cell_type": "code",
   "execution_count": 12,
   "metadata": {},
   "outputs": [
    {
     "name": "stdout",
     "output_type": "stream",
     "text": [
      "4\n",
      "still in this function\n"
     ]
    }
   ],
   "source": [
    "f = function4(4)"
   ]
  },
  {
   "cell_type": "code",
   "execution_count": 13,
   "metadata": {},
   "outputs": [
    {
     "name": "stdout",
     "output_type": "stream",
     "text": [
      "12\n"
     ]
    }
   ],
   "source": [
    "print(f)"
   ]
  },
  {
   "cell_type": "code",
   "execution_count": 14,
   "metadata": {},
   "outputs": [],
   "source": [
    "def function5(some_argument):\n",
    "    print(some_argument)\n",
    "    print(\"hiiiiii\")"
   ]
  },
  {
   "cell_type": "code",
   "execution_count": 15,
   "metadata": {},
   "outputs": [
    {
     "name": "stdout",
     "output_type": "stream",
     "text": [
      "4\n",
      "hiiiiii\n"
     ]
    }
   ],
   "source": [
    "function5(4)"
   ]
  },
  {
   "cell_type": "code",
   "execution_count": 17,
   "metadata": {},
   "outputs": [],
   "source": [
    "def function6(x):\n",
    "    print(x)\n",
    "    print(\"still in this function\")\n",
    "    x = x + 3\n",
    "    return 3*x"
   ]
  },
  {
   "cell_type": "code",
   "execution_count": 18,
   "metadata": {},
   "outputs": [
    {
     "name": "stdout",
     "output_type": "stream",
     "text": [
      "4\n",
      "still in this function\n",
      "21\n"
     ]
    }
   ],
   "source": [
    "g = function6(4)\n",
    "print(g)"
   ]
  },
  {
   "cell_type": "code",
   "execution_count": 19,
   "metadata": {},
   "outputs": [],
   "source": [
    "def function7(x):\n",
    "    print(x)\n",
    "    print(\"still in this function\")\n",
    "    x = x + 3\n",
    "    return 3*x"
   ]
  },
  {
   "cell_type": "code",
   "execution_count": 21,
   "metadata": {},
   "outputs": [
    {
     "name": "stdout",
     "output_type": "stream",
     "text": [
      "4\n",
      "still in this function\n",
      "4\n",
      "21\n"
     ]
    }
   ],
   "source": [
    "x = 4\n",
    "h = function7(x)\n",
    "print(x)\n",
    "print(h)"
   ]
  },
  {
   "cell_type": "code",
   "execution_count": 2,
   "metadata": {},
   "outputs": [
    {
     "name": "stdout",
     "output_type": "stream",
     "text": [
      "bmi is: \n",
      "23.80540166204986\n",
      "bmi is: \n",
      "25.10387811634349\n",
      "payal shah is not overweight\n",
      "shital jumbad is overweight\n"
     ]
    }
   ],
   "source": [
    "# bmi calculator \n",
    "name1 = \"payal shah\"\n",
    "weight_kg3 = 55\n",
    "height_m3 = 1.52\n",
    "\n",
    "name2 = \"shital jumbad\"\n",
    "weight4 = 58\n",
    "height4 = 1.52\n",
    "\n",
    "def bmi_calculator(name,weight_kg,height_m):\n",
    "    bmi = weight_kg / (height_m ** 2)\n",
    "    print(\"bmi is: \")\n",
    "    print(bmi)\n",
    "    if bmi < 25:\n",
    "        return name + \" is not overweight\"\n",
    "    else:\n",
    "        return name + \" is overweight\"\n",
    "    \n",
    "result1 = bmi_calculator(name1, weight_kg3, height_m3)\n",
    "result2 = bmi_calculator(name2, weight4, height4)\n",
    "print(result1)\n",
    "print(result2)"
   ]
  },
  {
   "cell_type": "code",
   "execution_count": 1,
   "metadata": {},
   "outputs": [],
   "source": [
    "def convert(mile):\n",
    "    km = mile*1.60934\n",
    "    print(mile)\n",
    "    print(\"miles is equal to\")\n",
    "    return km"
   ]
  },
  {
   "cell_type": "code",
   "execution_count": 2,
   "metadata": {},
   "outputs": [
    {
     "name": "stdout",
     "output_type": "stream",
     "text": [
      "10\n",
      "miles is equal to\n",
      "16.0934\n"
     ]
    }
   ],
   "source": [
    "print(convert(10))"
   ]
  },
  {
   "cell_type": "code",
   "execution_count": 4,
   "metadata": {},
   "outputs": [],
   "source": [
    "#small modification\n",
    "def convert(mile):\n",
    "    km = mile*1.60934\n",
    "    print(mile,\"miles is equal to\")\n",
    "    return km,'kms'"
   ]
  },
  {
   "cell_type": "code",
   "execution_count": 5,
   "metadata": {},
   "outputs": [
    {
     "name": "stdout",
     "output_type": "stream",
     "text": [
      "90 miles is equal to\n",
      "(144.8406, 'kms')\n"
     ]
    }
   ],
   "source": [
    "print(convert(90))"
   ]
  },
  {
   "cell_type": "code",
   "execution_count": 1,
   "metadata": {},
   "outputs": [],
   "source": [
    "#another self example for calculating cost of petrol\n",
    "def petrol_pump(petrol):\n",
    "    rupees = petrol*80.79\n",
    "    print(\"for\",petrol,'liter petrol pay',rupees,\"rupees\")\n",
    "    return rupees"
   ]
  },
  {
   "cell_type": "code",
   "execution_count": 2,
   "metadata": {},
   "outputs": [
    {
     "name": "stdout",
     "output_type": "stream",
     "text": [
      "for 2 liter petrol pay 161.58 rupees\n"
     ]
    }
   ],
   "source": [
    "a = petrol_pump(2)"
   ]
  },
  {
   "cell_type": "code",
   "execution_count": 4,
   "metadata": {},
   "outputs": [
    {
     "name": "stdout",
     "output_type": "stream",
     "text": [
      "for  1 liters of petrol pay  80.79\n",
      "for  2 liters of petrol pay  161.58\n",
      "for  3 liters of petrol pay  242.37\n",
      "for  4 liters of petrol pay  323.16\n",
      "for  5 liters of petrol pay  403.95000000000005\n",
      "for  6 liters of petrol pay  484.74\n",
      "for  7 liters of petrol pay  565.5300000000001\n",
      "for  8 liters of petrol pay  646.32\n",
      "for  9 liters of petrol pay  727.11\n",
      "for  10 liters of petrol pay  807.9000000000001\n",
      "final total amount 807.9000000000001 rs\n"
     ]
    }
   ],
   "source": [
    "#sum of 10 numbers \n",
    "total=0\n",
    "for petrol in range(1,11):\n",
    "    rupees = petrol*80.79\n",
    "    print(\"for \",petrol,\"liters of petrol pay \",rupees)\n",
    "total = total + rupees\n",
    "print(\"final total amount\",total,\"rs\")"
   ]
  },
  {
   "cell_type": "code",
   "execution_count": 5,
   "metadata": {},
   "outputs": [
    {
     "name": "stdout",
     "output_type": "stream",
     "text": [
      "for 1 liter pay 81 rs\n",
      "for 2 liter pay 162 rs\n",
      "for 3 liter pay 242 rs\n",
      "for 4 liter pay 323 rs\n",
      "for 5 liter pay 404 rs\n",
      "for 6 liter pay 485 rs\n",
      "for 7 liter pay 566 rs\n",
      "for 8 liter pay 646 rs\n",
      "for 9 liter pay 727 rs\n",
      "for 10 liter pay 808 rs\n",
      "final amount :---> 808 rs\n"
     ]
    }
   ],
   "source": [
    "#to round off the values\n",
    "#sum of 10 numbers \n",
    "total=0\n",
    "for petrol in range(1,11):\n",
    "    rupees = petrol*80.79\n",
    "    print(\"for\",petrol,\"liter pay\",round(rupees),\"rs\")\n",
    "total = total + rupees\n",
    "print(\"final amount :--->\",(round(rupees)),\"rs\")"
   ]
  },
  {
   "cell_type": "code",
   "execution_count": 6,
   "metadata": {},
   "outputs": [],
   "source": [
    "#see how to print limited number of results in 1 page"
   ]
  },
  {
   "cell_type": "code",
   "execution_count": null,
   "metadata": {},
   "outputs": [],
   "source": []
  }
 ],
 "metadata": {
  "kernelspec": {
   "display_name": "Python 3",
   "language": "python",
   "name": "python3"
  },
  "language_info": {
   "codemirror_mode": {
    "name": "ipython",
    "version": 3
   },
   "file_extension": ".py",
   "mimetype": "text/x-python",
   "name": "python",
   "nbconvert_exporter": "python",
   "pygments_lexer": "ipython3",
   "version": "3.6.5"
  }
 },
 "nbformat": 4,
 "nbformat_minor": 2
}
