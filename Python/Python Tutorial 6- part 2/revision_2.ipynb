{
 "cells": [
  {
   "cell_type": "code",
   "execution_count": 1,
   "metadata": {},
   "outputs": [
    {
     "name": "stdout",
     "output_type": "stream",
     "text": [
      "10\n"
     ]
    }
   ],
   "source": [
    "#add numbers from 1 to 5\n",
    "total = 0\n",
    "j = 1\n",
    "while j < 5:\n",
    "    total += j\n",
    "    j += 1\n",
    "print(total)"
   ]
  },
  {
   "cell_type": "code",
   "execution_count": 31,
   "metadata": {},
   "outputs": [
    {
     "name": "stdout",
     "output_type": "stream",
     "text": [
      "addition -2\n",
      "addition -5\n",
      "addition -10\n",
      "total ---> -10\n"
     ]
    }
   ],
   "source": [
    "#while is more difficuilt \n",
    "given_list = [5, 4, 4, 3, 1, -2, -3, -5]\n",
    "i = 0\n",
    "total = 0\n",
    "while i < len(given_list):\n",
    "    if given_list[i] < 0:\n",
    "        total += given_list[i]\n",
    "        print(\"addition\",total)\n",
    "    i += 1\n",
    "print(\"total --->\",total)"
   ]
  },
  {
   "cell_type": "code",
   "execution_count": 28,
   "metadata": {},
   "outputs": [
    {
     "name": "stdout",
     "output_type": "stream",
     "text": [
      "addition -2\n",
      "addition -5\n",
      "addition -10\n",
      "total---> -10\n"
     ]
    }
   ],
   "source": [
    "#for loop\n",
    "given_list = [5, 4, 4, 3, 1, -2, -3, -5]\n",
    "total = 0\n",
    "i = 0\n",
    "for element in given_list:\n",
    "    if element <= 0:\n",
    "        total += element\n",
    "        print(\"addition\",total)\n",
    "    i += 1\n",
    "print(\"total--->\",total )"
   ]
  },
  {
   "cell_type": "code",
   "execution_count": null,
   "metadata": {},
   "outputs": [],
   "source": []
  }
 ],
 "metadata": {
  "kernelspec": {
   "display_name": "Python 3",
   "language": "python",
   "name": "python3"
  },
  "language_info": {
   "codemirror_mode": {
    "name": "ipython",
    "version": 3
   },
   "file_extension": ".py",
   "mimetype": "text/x-python",
   "name": "python",
   "nbconvert_exporter": "python",
   "pygments_lexer": "ipython3",
   "version": "3.6.5"
  }
 },
 "nbformat": 4,
 "nbformat_minor": 2
}
