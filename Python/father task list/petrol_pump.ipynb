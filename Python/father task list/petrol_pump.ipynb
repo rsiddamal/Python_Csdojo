{
 "cells": [
  {
   "cell_type": "code",
   "execution_count": 1,
   "metadata": {},
   "outputs": [],
   "source": [
    "#1)we want the rounded off digits\n",
    "#2)we want cost for each  liter of petrol for ex:- 1 to 10; 10 to 20\n",
    "#3)we want only 10 results on 1 page"
   ]
  },
  {
   "cell_type": "code",
   "execution_count": 2,
   "metadata": {},
   "outputs": [],
   "source": [
    "#another self example for calculating cost of petrol\n",
    "def petrol_pump(petrol):\n",
    "    rupees = petrol*80.79\n",
    "    print(\"for\",petrol,'liter petrol pay',rupees,\"rupees\")\n",
    "    return rupees"
   ]
  },
  {
   "cell_type": "code",
   "execution_count": 3,
   "metadata": {},
   "outputs": [
    {
     "name": "stdout",
     "output_type": "stream",
     "text": [
      "for 2 liter petrol pay 161.58 rupees\n",
      "161.58\n"
     ]
    }
   ],
   "source": [
    "print(petrol_pump(2))"
   ]
  },
  {
   "cell_type": "code",
   "execution_count": 4,
   "metadata": {},
   "outputs": [
    {
     "name": "stdout",
     "output_type": "stream",
     "text": [
      "for 2 liter petrol pay 161.58 rupees\n"
     ]
    }
   ],
   "source": [
    "a = petrol_pump(2)"
   ]
  },
  {
   "cell_type": "code",
   "execution_count": 5,
   "metadata": {},
   "outputs": [
    {
     "name": "stdout",
     "output_type": "stream",
     "text": [
      "for  1 liters of petrol pay  80.79\n",
      "for  2 liters of petrol pay  161.58\n",
      "for  3 liters of petrol pay  242.37\n",
      "for  4 liters of petrol pay  323.16\n",
      "for  5 liters of petrol pay  403.95000000000005\n",
      "for  6 liters of petrol pay  484.74\n",
      "for  7 liters of petrol pay  565.5300000000001\n",
      "for  8 liters of petrol pay  646.32\n",
      "for  9 liters of petrol pay  727.11\n",
      "for  10 liters of petrol pay  807.9000000000001\n",
      "final total amount 807.9000000000001 rs\n"
     ]
    }
   ],
   "source": [
    "#now working for 2nd task\n",
    "#sum of 10 numbers \n",
    "total=0\n",
    "for petrol in range(1,11):\n",
    "    rupees = petrol*80.79\n",
    "    print(\"for \",petrol,\"liters of petrol pay \",rupees)\n",
    "total = total + rupees\n",
    "print(\"final total amount\",total,\"rs\")"
   ]
  },
  {
   "cell_type": "code",
   "execution_count": 9,
   "metadata": {},
   "outputs": [
    {
     "name": "stdout",
     "output_type": "stream",
     "text": [
      "for 1 liter pay 81 rs\n",
      "for 2 liter pay 162 rs\n",
      "for 3 liter pay 242 rs\n",
      "for 4 liter pay 323 rs\n",
      "for 5 liter pay 404 rs\n",
      "for 6 liter pay 485 rs\n",
      "for 7 liter pay 566 rs\n",
      "for 8 liter pay 646 rs\n",
      "for 9 liter pay 727 rs\n",
      "for 10 liter pay 808 rs\n",
      "final amount :---> 808 rs\n"
     ]
    }
   ],
   "source": [
    "#to round off the values\n",
    "#sum of 10 numbers \n",
    "total=0\n",
    "for petrol in range(1,11):\n",
    "    rupees = petrol*80.79\n",
    "    print(\"for\",petrol,\"liter pay\",round(rupees),\"rs\")\n",
    "total = total + rupees\n",
    "print(\"final amount :--->\",(round(rupees)),\"rs\")"
   ]
  },
  {
   "cell_type": "code",
   "execution_count": 10,
   "metadata": {},
   "outputs": [],
   "source": [
    "#how to print 10 results on 1 page"
   ]
  },
  {
   "cell_type": "code",
   "execution_count": null,
   "metadata": {},
   "outputs": [],
   "source": []
  }
 ],
 "metadata": {
  "kernelspec": {
   "display_name": "Python 3",
   "language": "python",
   "name": "python3"
  },
  "language_info": {
   "codemirror_mode": {
    "name": "ipython",
    "version": 3
   },
   "file_extension": ".py",
   "mimetype": "text/x-python",
   "name": "python",
   "nbconvert_exporter": "python",
   "pygments_lexer": "ipython3",
   "version": "3.6.5"
  }
 },
 "nbformat": 4,
 "nbformat_minor": 2
}
